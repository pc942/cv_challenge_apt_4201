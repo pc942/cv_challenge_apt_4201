{
 "cells": [
  {
   "cell_type": "code",
   "execution_count": 1,
   "id": "8c40bf76-fabf-4ad2-bb23-4a5794dc4f0f",
   "metadata": {},
   "outputs": [],
   "source": [
    "import os\n",
    "import shutil\n",
    "from sklearn.model_selection import train_test_split"
   ]
  },
  {
   "cell_type": "code",
   "execution_count": 2,
   "id": "7f3e195f-b894-456b-8f8d-e1d31e45a618",
   "metadata": {},
   "outputs": [],
   "source": [
    "# Path to your data\n",
    "data_dir = './data'\n",
    "dataset_dir = './dataset'"
   ]
  },
  {
   "cell_type": "code",
   "execution_count": 3,
   "id": "0230ae5d-46ad-4379-87c1-caffda1bf6b7",
   "metadata": {},
   "outputs": [],
   "source": [
    "# Ensure the dataset folder structure exists\n",
    "os.makedirs(os.path.join(dataset_dir, 'train'), exist_ok=True)\n",
    "os.makedirs(os.path.join(dataset_dir, 'val'), exist_ok=True)\n",
    "os.makedirs(os.path.join(dataset_dir, 'test'), exist_ok=True)"
   ]
  },
  {
   "cell_type": "code",
   "execution_count": 4,
   "id": "d94be5f6-e475-4727-b521-434601d8c36a",
   "metadata": {},
   "outputs": [],
   "source": [
    "# Dictionary to store the count of images in each split by building\n",
    "split_counts = {\n",
    "    'train': {},\n",
    "    'val': {},\n",
    "    'test': {}\n",
    "}"
   ]
  },
  {
   "cell_type": "code",
   "execution_count": 5,
   "id": "de8a3750-32c5-425d-927b-6c1de4db36e1",
   "metadata": {},
   "outputs": [
    {
     "name": "stdout",
     "output_type": "stream",
     "text": [
      "Building 'McCool Hall' - Before dataset creation: 1344 images\n",
      "Building 'McCool Hall' - After dataset creation: 1344 images\n",
      "Building 'Simrall Hall' - Before dataset creation: 1132 images\n",
      "Building 'Simrall Hall' - After dataset creation: 1132 images\n",
      "Building 'Student Union' - Before dataset creation: 1296 images\n",
      "Building 'Student Union' - After dataset creation: 1296 images\n",
      "Building 'Swalm Hall' - Before dataset creation: 1349 images\n",
      "Building 'Swalm Hall' - After dataset creation: 1349 images\n",
      "Building 'Walker Hall' - Before dataset creation: 1251 images\n",
      "Building 'Walker Hall' - After dataset creation: 1251 images\n",
      "Building 'Carpenter Hall' - Before dataset creation: 1177 images\n",
      "Building 'Carpenter Hall' - After dataset creation: 1177 images\n",
      "Building 'Butler Hall' - Before dataset creation: 1167 images\n",
      "Building 'Butler Hall' - After dataset creation: 1167 images\n",
      "Building 'McCain Hall' - Before dataset creation: 1277 images\n",
      "Building 'McCain Hall' - After dataset creation: 1277 images\n",
      "Building 'Lee Hall' - Before dataset creation: 1253 images\n",
      "Building 'Lee Hall' - After dataset creation: 1253 images\n",
      "Building 'Old Main' - Before dataset creation: 1338 images\n",
      "Building 'Old Main' - After dataset creation: 1338 images\n"
     ]
    }
   ],
   "source": [
    "# Loop through each building folder in the data directory\n",
    "for building_name in os.listdir(data_dir):\n",
    "    building_path = os.path.join(data_dir, building_name)\n",
    "\n",
    "    # Check if it's a directory and not a file\n",
    "    if os.path.isdir(building_path):\n",
    "        # Count the total number of images before dataset creation\n",
    "        total_images_before = len([f for f in os.listdir(building_path) if os.path.isfile(os.path.join(building_path, f))])\n",
    "        print(f\"Building '{building_name}' - Before dataset creation: {total_images_before} images\")\n",
    "\n",
    "        # Make corresponding directories in the dataset folder\n",
    "        os.makedirs(os.path.join(dataset_dir, 'train', building_name), exist_ok=True)\n",
    "        os.makedirs(os.path.join(dataset_dir, 'val', building_name), exist_ok=True)\n",
    "        os.makedirs(os.path.join(dataset_dir, 'test', building_name), exist_ok=True)\n",
    "\n",
    "        # Get all image files in the building folder\n",
    "        image_files = [f for f in os.listdir(building_path) if os.path.isfile(os.path.join(building_path, f))]\n",
    "        \n",
    "        # Split images into train, val, and test sets (70/15/15)\n",
    "        train_files, temp_files = train_test_split(image_files, test_size=0.3, random_state=42)\n",
    "        val_files, test_files = train_test_split(temp_files, test_size=0.5, random_state=42)  # 0.5 * 0.3 = 0.15\n",
    "\n",
    "        # Move files to the appropriate directories\n",
    "        for file in train_files:\n",
    "            shutil.copy(os.path.join(building_path, file), os.path.join(dataset_dir, 'train', building_name, file))\n",
    "        \n",
    "        for file in val_files:\n",
    "            shutil.copy(os.path.join(building_path, file), os.path.join(dataset_dir, 'val', building_name, file))\n",
    "        \n",
    "        for file in test_files:\n",
    "            shutil.copy(os.path.join(building_path, file), os.path.join(dataset_dir, 'test', building_name, file))\n",
    "\n",
    "        # Update the counts for each split\n",
    "        split_counts['train'][building_name] = len(train_files)\n",
    "        split_counts['val'][building_name] = len(val_files)\n",
    "        split_counts['test'][building_name] = len(test_files)\n",
    "\n",
    "        # Count the total number of images after dataset creation\n",
    "        total_images_after = len(train_files) + len(val_files) + len(test_files)\n",
    "        print(f\"Building '{building_name}' - After dataset creation: {total_images_after} images\")\n"
   ]
  },
  {
   "cell_type": "code",
   "execution_count": 6,
   "id": "c05cfc3b-8182-42cf-bb96-ef0cee21bcf9",
   "metadata": {},
   "outputs": [
    {
     "name": "stdout",
     "output_type": "stream",
     "text": [
      "\n",
      "Number of images in each split by building:\n",
      "\n",
      "Train split:\n",
      "  McCool Hall: 940 images\n",
      "  Simrall Hall: 792 images\n",
      "  Student Union: 907 images\n",
      "  Swalm Hall: 944 images\n",
      "  Walker Hall: 875 images\n",
      "  Carpenter Hall: 823 images\n",
      "  Butler Hall: 816 images\n",
      "  McCain Hall: 893 images\n",
      "  Lee Hall: 877 images\n",
      "  Old Main: 936 images\n",
      "\n",
      "Val split:\n",
      "  McCool Hall: 202 images\n",
      "  Simrall Hall: 170 images\n",
      "  Student Union: 194 images\n",
      "  Swalm Hall: 202 images\n",
      "  Walker Hall: 188 images\n",
      "  Carpenter Hall: 177 images\n",
      "  Butler Hall: 175 images\n",
      "  McCain Hall: 192 images\n",
      "  Lee Hall: 188 images\n",
      "  Old Main: 201 images\n",
      "\n",
      "Test split:\n",
      "  McCool Hall: 202 images\n",
      "  Simrall Hall: 170 images\n",
      "  Student Union: 195 images\n",
      "  Swalm Hall: 203 images\n",
      "  Walker Hall: 188 images\n",
      "  Carpenter Hall: 177 images\n",
      "  Butler Hall: 176 images\n",
      "  McCain Hall: 192 images\n",
      "  Lee Hall: 188 images\n",
      "  Old Main: 201 images\n",
      "\n",
      "Total number of images per building after dataset creation:\n",
      "  McCool Hall: 1344 total images\n",
      "  Simrall Hall: 1132 total images\n",
      "  Student Union: 1296 total images\n",
      "  Swalm Hall: 1349 total images\n",
      "  Walker Hall: 1251 total images\n",
      "  Carpenter Hall: 1177 total images\n",
      "  Butler Hall: 1167 total images\n",
      "  McCain Hall: 1277 total images\n",
      "  Lee Hall: 1253 total images\n",
      "  Old Main: 1338 total images\n",
      "\n",
      "Dataset creation complete.\n"
     ]
    }
   ],
   "source": [
    "# Print out the number of images in each split\n",
    "print(\"\\nNumber of images in each split by building:\")\n",
    "for split in ['train', 'val', 'test']:\n",
    "    print(f\"\\n{split.capitalize()} split:\")\n",
    "    for building_name, count in split_counts[split].items():\n",
    "        print(f\"  {building_name}: {count} images\")\n",
    "\n",
    "# Print out the total number of images for each building\n",
    "print(\"\\nTotal number of images per building after dataset creation:\")\n",
    "for building_name in split_counts['train']:\n",
    "    total_images = split_counts['train'][building_name] + split_counts['val'][building_name] + split_counts['test'][building_name]\n",
    "    print(f\"  {building_name}: {total_images} total images\")\n",
    "\n",
    "print(\"\\nDataset creation complete.\")"
   ]
  }
 ],
 "metadata": {
  "kernelspec": {
   "display_name": "torch",
   "language": "python",
   "name": "torch"
  },
  "language_info": {
   "codemirror_mode": {
    "name": "ipython",
    "version": 3
   },
   "file_extension": ".py",
   "mimetype": "text/x-python",
   "name": "python",
   "nbconvert_exporter": "python",
   "pygments_lexer": "ipython3",
   "version": "3.11.9"
  }
 },
 "nbformat": 4,
 "nbformat_minor": 5
}
